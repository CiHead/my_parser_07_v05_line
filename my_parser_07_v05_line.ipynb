{
 "cells": [
  {
   "cell_type": "markdown",
   "id": "8b89c646",
   "metadata": {},
   "source": [
    "# Учебный проект «Парсинг сайта» 20250430"
   ]
  },
  {
   "cell_type": "markdown",
   "id": "58d6f240",
   "metadata": {},
   "source": [
    "#### pip install requests beautifulsoup4 lxml"
   ]
  },
  {
   "cell_type": "markdown",
   "id": "7076802f",
   "metadata": {},
   "source": [
    "## Импорт необходимых библиотек import requests # Для отправки HTTP-"
   ]
  },
  {
   "cell_type": "code",
   "execution_count": 1,
   "id": "9f5b61b2",
   "metadata": {},
   "outputs": [],
   "source": [
    "import requests # Для отправки HTTP-запросов к сайту\n",
    "from bs4 import BeautifulSoup # Для парсинга HTML-страниц\n",
    "import pprint # Для красивого вывода данных в консоль\n",
    "from time import sleep # Для добавления задержек между запросами\n",
    "import pandas as pd # Для работы с данными в табличном формате\n",
    "import os # Для работы с файловой системой\n",
    "from openpyxl import Workbook, load_workbook # Для работы с Excel-файлами"
   ]
  },
  {
   "cell_type": "markdown",
   "id": "45704640",
   "metadata": {},
   "source": [
    "#### Базовый домен сайта (используется для формирования полных URL)"
   ]
  },
  {
   "cell_type": "code",
   "execution_count": 2,
   "id": "fc864e4f",
   "metadata": {},
   "outputs": [],
   "source": [
    "domen = 'https://scrapingclub.com'"
   ]
  },
  {
   "cell_type": "markdown",
   "id": "5f57c1c5",
   "metadata": {},
   "source": [
    "#### Стартовая URL-страница для парсинга"
   ]
  },
  {
   "cell_type": "code",
   "execution_count": 3,
   "id": "962f50e4",
   "metadata": {},
   "outputs": [],
   "source": [
    "url = 'https://scrapingclub.com/exercise/list_basic/?page=1'"
   ]
  },
  {
   "cell_type": "markdown",
   "id": "e2803dc4",
   "metadata": {},
   "source": [
    "#### Заголовки HTTP-запроса (имитируем браузер)"
   ]
  },
  {
   "cell_type": "code",
   "execution_count": 4,
   "id": "c9408d25",
   "metadata": {},
   "outputs": [],
   "source": [
    "headers = {\n",
    "    \"User-Agent\": \"Mozilla/5.0 (Windows NT 10.0; Win64; x64) AppleWebKit/537.36 \"\n",
    "                  \"(KHTML, like Gecko) Chrome/58.0.3029.110 Safari/537.3\"\n",
    "}"
   ]
  },
  {
   "cell_type": "markdown",
   "id": "dc6cec70",
   "metadata": {},
   "source": [
    "#### Путь к файлу Excel для сохранения результатов для построчного последовательного заполнения спарсенными карточками товаров"
   ]
  },
  {
   "cell_type": "code",
   "execution_count": 5,
   "id": "8835238c",
   "metadata": {},
   "outputs": [],
   "source": [
    "output_file = r'D:\\PROJECTS\\PROJECT_20220926_SKILL_FACTORY\\IDE\\WILDBERRIES\\data_XlsxWriter_line.xlsx'"
   ]
  },
  {
   "cell_type": "markdown",
   "id": "dc2315a0",
   "metadata": {},
   "source": [
    "#### Проверка существования файла и его создание/загрузка: ... если файл есть — загружаем, если нет — создаём"
   ]
  },
  {
   "cell_type": "code",
   "execution_count": 6,
   "id": "7af413ce",
   "metadata": {},
   "outputs": [
    {
     "name": "stdout",
     "output_type": "stream",
     "text": [
      "data_XlsxWriter_line.xlsx создан повторно\n"
     ]
    }
   ],
   "source": [
    "if not os.path.exists(output_file):\n",
    "    # Если файл не существует - создаем новый\n",
    "    wb = Workbook()  # Создаем новую книгу Excel\n",
    "    ws = wb.active  # Получаем активный лист\n",
    "    ws.title = \"Sheet1\"  # Переименовываем лист\n",
    "    # Добавляем заголовки столбцов\n",
    "    ws.append(['name', 'price', 'text', 'url_img']) # Заголовки\n",
    "    wb.save(output_file)  # Сохраняем файл\n",
    "    print(f\"{os.path.basename(output_file)} создан\")\n",
    "else:\n",
    "    # Если файл существует - загружаем его\n",
    "    wb = load_workbook(output_file)\n",
    "    ws = wb.active\n",
    "    print(f\"{os.path.basename(output_file)} создан повторно\")"
   ]
  },
  {
   "cell_type": "markdown",
   "id": "8e79a40c",
   "metadata": {},
   "source": [
    "## Отправляем GET-запрос к стартовой странице"
   ]
  },
  {
   "cell_type": "code",
   "execution_count": 7,
   "id": "cd56e320",
   "metadata": {},
   "outputs": [],
   "source": [
    "response = requests.get(url, headers = headers)"
   ]
  },
  {
   "cell_type": "markdown",
   "id": "207e53a2",
   "metadata": {},
   "source": [
    "#### Создаем объект BeautifulSoup для парсинга HTML - здесь использую парсер lxml, но в некоторых (для малых объёмов данных) случаях можно html.parser вместо lxml"
   ]
  },
  {
   "cell_type": "code",
   "execution_count": 8,
   "id": "59d1ef06",
   "metadata": {},
   "outputs": [],
   "source": [
    "soup = BeautifulSoup(response.text, 'lxml')"
   ]
  },
  {
   "cell_type": "markdown",
   "id": "9e27686e",
   "metadata": {},
   "source": [
    "## Находим блок пагинации"
   ]
  },
  {
   "cell_type": "code",
   "execution_count": 9,
   "id": "54426256",
   "metadata": {},
   "outputs": [],
   "source": [
    "pagination = soup.find('nav', class_='pagination')"
   ]
  },
  {
   "cell_type": "markdown",
   "id": "02cbdfd9",
   "metadata": {},
   "source": [
    "#### Получаем все элементы пагинации ( кoд страницы сайта и смотрим теги \"a\" в углоавых скобках) pagination.find_all('a') возвращает список ссылок на страницы: 1 2 3 ... Next."
   ]
  },
  {
   "cell_type": "code",
   "execution_count": 10,
   "id": "e2a57a7a",
   "metadata": {},
   "outputs": [],
   "source": [
    "pages = pagination.find_all('a')"
   ]
  },
  {
   "cell_type": "markdown",
   "id": "1aee06ed",
   "metadata": {},
   "source": [
    "#### Последний элемент перед \"Next\" — это номер последней страницы или иначе предпоследний элемент (pages[-2]) содержит номер последней страницы и потом преобразуем его .text в int."
   ]
  },
  {
   "cell_type": "code",
   "execution_count": 11,
   "id": "fc39616c",
   "metadata": {},
   "outputs": [
    {
     "name": "stdout",
     "output_type": "stream",
     "text": [
      "\n",
      "Количество страниц: 6 \n",
      "\n"
     ]
    }
   ],
   "source": [
    "last_page_number = int(pages[-2].text)\n",
    "print(\"\\nКоличество страниц:\", last_page_number,'\\n')"
   ]
  },
  {
   "cell_type": "code",
   "execution_count": 12,
   "id": "e020844c",
   "metadata": {},
   "outputs": [],
   "source": [
    "def get_url():\n",
    "    \"\"\"Генератор, который возвращает URL-адреса карточек товаров со всех страниц\"\"\"\n",
    "    \"\"\"Функция с yield, которая возвращает URL по одному - это позволяет ...\"\"\"\n",
    "    \"\"\"... обрабатывать страницы последовательно без загрузки всех URL в память\"\"\"\n",
    "\n",
    "    for count in range(1, last_page_number):\n",
    "\n",
    "        # Формируем URL для каждой страницы\n",
    "        url = f'https://scrapingclub.com/exercise/list_basic/?page={count}'\n",
    "\n",
    "        # Отправляем запрос к странице\n",
    "        response = requests.get(url, headers = headers)\n",
    "\n",
    "        # Парсим HTML страницы\n",
    "        soup = BeautifulSoup(response.text, 'lxml') # в некоторых случаях можно html.parser вместо lxml\n",
    "\n",
    "        data = soup.find_all('div')\n",
    "\n",
    "        # Находим все карточки товаров на странице\n",
    "        data = soup.find_all('div', class_ = 'w-full rounded border')\n",
    "\n",
    "        # Для каждой карточки извлекаем информацию\n",
    "        for i in data:\n",
    "\n",
    "            # Извлекаем название товара (удаляем лишние пробелы и переносы строк)\n",
    "            name = i.find('h4').text.replace(' ', '').replace('\\n', '')\n",
    "\n",
    "            # Извлекаем цену товара\n",
    "            price = i.find('h5').text\n",
    "\n",
    "            # Формируем полный URL изображения (добавляем домен)\n",
    "            url_img = domen + i.find('img', class_ = 'card-img-top img-fluid').get('src')\n",
    "\n",
    "            # Формируем полный URL страницы товара\n",
    "            card_url = domen + i.find('a').get('href')\n",
    "            \n",
    "            # Возвращаем URL страницы товара (генератор)\n",
    "            yield card_url"
   ]
  },
  {
   "cell_type": "markdown",
   "id": "7e9670a3",
   "metadata": {},
   "source": [
    "## Список (словарь) для хранения данных обо всех товарах по каждой карточке товара"
   ]
  },
  {
   "cell_type": "code",
   "execution_count": 13,
   "id": "cc443019",
   "metadata": {},
   "outputs": [],
   "source": [
    "data_list = []"
   ]
  },
  {
   "cell_type": "markdown",
   "id": "61529e98",
   "metadata": {},
   "source": [
    "#### Итерируем по всем URL карточек товаров"
   ]
  },
  {
   "cell_type": "code",
   "execution_count": 14,
   "id": "20ab5fde",
   "metadata": {},
   "outputs": [],
   "source": [
    "for card_url in get_url():\n",
    "\n",
    "    # Отправляем запрос к странице товара\n",
    "    response = requests.get(card_url, headers=headers)\n",
    "\n",
    "    # Парсим HTML страницы товара\n",
    "    soup = BeautifulSoup(response.text, 'lxml')\n",
    "\n",
    "    # Находим основной блок с информацией о товаре\n",
    "    data = soup.find('div', class_='my-8 w-full rounded border')\n",
    "    \n",
    "    if data: # Если блок найден\n",
    "        try:\n",
    "            # Извлекаем название товара\n",
    "            name = data.find('h3', class_='card-title').text.strip()\n",
    "            # Извлекаем цену товара\n",
    "            price = data.find('h4', class_='my-4 card-price').text.strip()\n",
    "            # Извлекаем описание товара\n",
    "            text = data.find('p', class_='card-description').text.strip()\n",
    "            # Формируем полный URL изображения\n",
    "            url_img = domen + data.find('img').get('src')\n",
    "\n",
    "            # Добавляем данные о товаре в список - пополнение словаря\n",
    "            data_list.append({\n",
    "                'name': name,\n",
    "                'price': price,\n",
    "                'text': text,\n",
    "                'url_img': url_img\n",
    "            })\n",
    "\n",
    "            # Добавляем данные в Excel-файл (построчно)\n",
    "            ws.append([name, price, text, url_img])\n",
    "            # Сохраняем изменения в файле\n",
    "            wb.save(output_file)\n",
    "\n",
    "        except AttributeError as e:\n",
    "            # Если какой-то элемент не найден\n",
    "            print(f\"Некоторые данные не найдены на странице: {card_url}\")\n",
    "            print(f\"Ошибка: {e}\")\n",
    "    else:\n",
    "        print(f\"Блок данных не найден на странице: {card_url}\")"
   ]
  },
  {
   "cell_type": "markdown",
   "id": "d5f058bb",
   "metadata": {},
   "source": [
    "#### Создаем DataFrame из собранных данных"
   ]
  },
  {
   "cell_type": "code",
   "execution_count": 15,
   "id": "c981adb1",
   "metadata": {},
   "outputs": [],
   "source": [
    "df = pd.DataFrame(data_list, columns=['name', 'price', 'text', 'url_img'])"
   ]
  },
  {
   "cell_type": "markdown",
   "id": "1c29c2ee",
   "metadata": {},
   "source": [
    "#### Выводим DataFrame в консоль"
   ]
  },
  {
   "cell_type": "code",
   "execution_count": 16,
   "id": "23b99f07",
   "metadata": {},
   "outputs": [
    {
     "name": "stdout",
     "output_type": "stream",
     "text": [
      "                           name   price  \\\n",
      "0                   Short Dress  $24.99   \n",
      "1              Patterned Slacks  $29.99   \n",
      "2           Short Chiffon Dress  $49.99   \n",
      "3        Off-the-shoulder Dress  $59.99   \n",
      "4                    V-neck Top  $24.99   \n",
      "5           Short Chiffon Dress  $49.99   \n",
      "6                    V-neck Top  $24.99   \n",
      "7                    V-neck Top  $24.99   \n",
      "8              Short Lace Dress  $59.99   \n",
      "9                  Fitted Dress  $34.99   \n",
      "10              V-neck Jumpsuit  $69.99   \n",
      "11                Chiffon Dress  $54.99   \n",
      "12      Skinny High Waist Jeans  $39.99   \n",
      "13      Super Skinny High Jeans  $19.99   \n",
      "14       Oversized Denim Jacket  $19.99   \n",
      "15             Short Sweatshirt  $24.99   \n",
      "16      Long-sleeved Jersey Top  $12.99   \n",
      "17      Skinny High Waist Jeans  $39.99   \n",
      "18             Short Sweatshirt  $24.99   \n",
      "19      Long-sleeved Jersey Top  $12.99   \n",
      "20      Long-sleeved Jersey Top  $12.99   \n",
      "21                 Jersey Dress  $19.99   \n",
      "22             Short Sweatshirt  $24.99   \n",
      "23     Crinkled Flounced Blouse  $24.99   \n",
      "24            Bib Overall Dress  $29.99   \n",
      "25           Loose-knit Sweater  $17.99   \n",
      "26         Skinny Regular Jeans  $29.99   \n",
      "27             Henley-style Top  $12.99   \n",
      "28                      Joggers  $17.99   \n",
      "29            Skirt with Lacing  $34.99   \n",
      "30                 Top with Tie  $17.99   \n",
      "31                      Joggers  $34.99   \n",
      "32   Chiffon Dress with Flounce  $49.99   \n",
      "33            Skirt with Lacing  $34.99   \n",
      "34                   V-neck Top   $9.99   \n",
      "35                Hooded Jacket  $29.99   \n",
      "36                   Hooded Top  $29.99   \n",
      "37         Lyocell-blend Blouse  $34.99   \n",
      "38            Bib Overall Dress  $29.99   \n",
      "39               Wide-leg Pants  $34.99   \n",
      "40  Ankle-length Slim-fit Pants  $24.99   \n",
      "41             Short Sweatshirt   $9.99   \n",
      "42                V-neck Blouse  $17.99   \n",
      "43                  Short Skirt  $24.99   \n",
      "44                 Mesh T-shirt  $17.99   \n",
      "45       Blouse with Embroidery  $59.99   \n",
      "46          Wide-cut Cotton Top  $34.99   \n",
      "47                Pleated Skirt  $54.99   \n",
      "48                         Coat  $69.99   \n",
      "49               Wide-leg Pants  $49.99   \n",
      "\n",
      "                                                 text  \\\n",
      "0   Short dress in woven fabric. Round neckline an...   \n",
      "1   Ankle-length slacks in patterned stretch cotto...   \n",
      "2   Short V-neck dress in plumeti chiffon. Gathers...   \n",
      "3   Short, fitted off-the-shoulder dress in stretc...   \n",
      "4   Top in woven fabric with V-neck front and back...   \n",
      "5   Short V-neck dress in plumeti chiffon. Gathers...   \n",
      "6   Top in woven fabric with V-neck front and back...   \n",
      "7   Top in woven fabric with V-neck front and back...   \n",
      "8   Short, straight-cut dress in lace. Opening at ...   \n",
      "9   Fitted dress in thick jersey with a V-neck, lo...   \n",
      "10  Jumpsuit in woven fabric with a V-neck and sho...   \n",
      "11  Short dress in crinkled chiffon with a V-neck ...   \n",
      "12  5-pocket jeans in washed stretch denim with di...   \n",
      "13  Jeans in washed superstretch denim with a zip ...   \n",
      "14  Oversized denim jacket with smooth metal butto...   \n",
      "15  Short sweatshirt with long sleeves and ribbing...   \n",
      "16  CONSCIOUS. Fitted, long-sleeved top in stretch...   \n",
      "17  5-pocket jeans in washed stretch denim with di...   \n",
      "18  Short sweatshirt with long sleeves and ribbing...   \n",
      "19  CONSCIOUS. Fitted, long-sleeved top in stretch...   \n",
      "20  CONSCIOUS. Fitted, long-sleeved top in stretch...   \n",
      "21  Fitted dress in jersey with long, straight sle...   \n",
      "22  Short sweatshirt with long sleeves and ribbing...   \n",
      "23  Blouse in airy, crinkled fabric with a printed...   \n",
      "24  Short bib overall dress in twill. Shoulder str...   \n",
      "25  Soft, loose-knit sweater with a V-neck, long r...   \n",
      "26  5-pocket jeans in washed superstretch denim wi...   \n",
      "27  Fitted top in soft cotton jersey with a scoop ...   \n",
      "28  Joggers in soft sweatshirt fabric with an elas...   \n",
      "29  Short skirt in soft twill with eyelets and lac...   \n",
      "30  Short-sleeved top in soft jersey. Metal eyelet...   \n",
      "31  Joggers in woven fabric with a slight rustle. ...   \n",
      "32  Calf-length dress in crinkled chiffon with a p...   \n",
      "33  Short skirt in soft twill with eyelets and lac...   \n",
      "34  V-neck top in airy jersey with buttons at top ...   \n",
      "35  Sweatshirt jacket with a lined drawstring hood...   \n",
      "36  Wide-cut sweatshirt with a jersey-lined drawst...   \n",
      "37  Straight-cut blouse in woven fabric with Tence...   \n",
      "38  Short bib overall dress in twill. Shoulder str...   \n",
      "39  Pants in crêped, woven fabric with contrasting...   \n",
      "40  5-pocket, ankle-length pants in stretch twill....   \n",
      "41  Short sweatshirt with long sleeves and ribbing...   \n",
      "42  V-neck blouse in woven viscose fabric with but...   \n",
      "43  Short skirt in a woven modal blend with contra...   \n",
      "44  Long T-shirt in mesh with a V-neck. Yoke, drop...   \n",
      "45  Wide-cut blouse in woven cotton fabric with em...   \n",
      "46  Straight-cut top in thicker cotton jersey with...   \n",
      "47  Calf-length skirt in pleated, crêped fabric wi...   \n",
      "48  Long coat in woven fabric with viscose content...   \n",
      "49  Wide-cut pants in soft, washed denim with a hi...   \n",
      "\n",
      "                                            url_img  \n",
      "0   https://scrapingclub.com/static/img/90008-E.jpg  \n",
      "1   https://scrapingclub.com/static/img/96436-A.jpg  \n",
      "2   https://scrapingclub.com/static/img/93926-B.jpg  \n",
      "3   https://scrapingclub.com/static/img/90882-B.jpg  \n",
      "4   https://scrapingclub.com/static/img/93756-C.jpg  \n",
      "5   https://scrapingclub.com/static/img/93926-C.jpg  \n",
      "6   https://scrapingclub.com/static/img/93756-B.jpg  \n",
      "7   https://scrapingclub.com/static/img/93756-D.jpg  \n",
      "8   https://scrapingclub.com/static/img/96643-A.jpg  \n",
      "9   https://scrapingclub.com/static/img/94766-A.jpg  \n",
      "10  https://scrapingclub.com/static/img/91696-C.jpg  \n",
      "11  https://scrapingclub.com/static/img/93745-A.jpg  \n",
      "12  https://scrapingclub.com/static/img/65763-E.jpg  \n",
      "13  https://scrapingclub.com/static/img/70745-D.jpg  \n",
      "14  https://scrapingclub.com/static/img/94706-A.jpg  \n",
      "15  https://scrapingclub.com/static/img/96230-B.jpg  \n",
      "16  https://scrapingclub.com/static/img/73840-F.jpg  \n",
      "17  https://scrapingclub.com/static/img/65763-A.jpg  \n",
      "18  https://scrapingclub.com/static/img/96230-A.jpg  \n",
      "19  https://scrapingclub.com/static/img/73840-P.jpg  \n",
      "20  https://scrapingclub.com/static/img/73840-Q.jpg  \n",
      "21  https://scrapingclub.com/static/img/96113-C.jpg  \n",
      "22  https://scrapingclub.com/static/img/96230-C.jpg  \n",
      "23  https://scrapingclub.com/static/img/00959-A.jpg  \n",
      "24  https://scrapingclub.com/static/img/94323-B.jpg  \n",
      "25  https://scrapingclub.com/static/img/71342-J.jpg  \n",
      "26  https://scrapingclub.com/static/img/94453-B.jpg  \n",
      "27  https://scrapingclub.com/static/img/34975-K.jpg  \n",
      "28  https://scrapingclub.com/static/img/59851-A.jpg  \n",
      "29  https://scrapingclub.com/static/img/93811-A.jpg  \n",
      "30  https://scrapingclub.com/static/img/94967-A.jpg  \n",
      "31  https://scrapingclub.com/static/img/92905-A.jpg  \n",
      "32  https://scrapingclub.com/static/img/97504-A.jpg  \n",
      "33  https://scrapingclub.com/static/img/93811-B.jpg  \n",
      "34  https://scrapingclub.com/static/img/95168-D.jpg  \n",
      "35  https://scrapingclub.com/static/img/52378-D.jpg  \n",
      "36  https://scrapingclub.com/static/img/60135-A.jpg  \n",
      "37  https://scrapingclub.com/static/img/91865-A.jpg  \n",
      "38  https://scrapingclub.com/static/img/94323-A.jpg  \n",
      "39  https://scrapingclub.com/static/img/92942-B.jpg  \n",
      "40  https://scrapingclub.com/static/img/93270-A.jpg  \n",
      "41  https://scrapingclub.com/static/img/96230-D.jpg  \n",
      "42  https://scrapingclub.com/static/img/97571-B.jpg  \n",
      "43  https://scrapingclub.com/static/img/92740-A.jpg  \n",
      "44  https://scrapingclub.com/static/img/94984-A.jpg  \n",
      "45  https://scrapingclub.com/static/img/96236-C.jpg  \n",
      "46  https://scrapingclub.com/static/img/99663-A.jpg  \n",
      "47  https://scrapingclub.com/static/img/00268-B.jpg  \n",
      "48  https://scrapingclub.com/static/img/98209-A.jpg  \n",
      "49  https://scrapingclub.com/static/img/93158-A.jpg  \n"
     ]
    }
   ],
   "source": [
    "print(df)"
   ]
  },
  {
   "cell_type": "markdown",
   "id": "f2b76dbf",
   "metadata": {},
   "source": [
    "#### Сохраняем DataFrame в отдельный Excel-файл"
   ]
  },
  {
   "cell_type": "code",
   "execution_count": 17,
   "id": "c0b95013",
   "metadata": {},
   "outputs": [],
   "source": [
    "df.to_excel(r'D:\\PROJECTS\\PROJECT_20220926_SKILL_FACTORY\\IDE\\WILDBERRIES\\data_XlsxWriter.xlsx', index=False)"
   ]
  },
  {
   "cell_type": "markdown",
   "id": "4e4e5f18",
   "metadata": {},
   "source": [
    "#### Завершаем работу программы"
   ]
  },
  {
   "cell_type": "code",
   "execution_count": 18,
   "id": "7affd769",
   "metadata": {},
   "outputs": [],
   "source": [
    "quit()"
   ]
  }
 ],
 "metadata": {
  "kernelspec": {
   "display_name": "Python 3 (ipykernel)",
   "language": "python",
   "name": "python3"
  },
  "language_info": {
   "codemirror_mode": {
    "name": "ipython",
    "version": 3
   },
   "file_extension": ".py",
   "mimetype": "text/x-python",
   "name": "python",
   "nbconvert_exporter": "python",
   "pygments_lexer": "ipython3",
   "version": "3.9.10"
  }
 },
 "nbformat": 4,
 "nbformat_minor": 5
}
